{
 "cells": [
  {
   "cell_type": "markdown",
   "metadata": {},
   "source": [
    "## Yelp Data Analysis - Part 2 - Data Cleansing & Wrangling\n",
    "Cleaning list:<br>\n",
    "* Split ranking and name\n",
    "* Make ranking the index\n",
    "* Change rating to only integers and cast data type to integer\n",
    "* Add another column to translate dollar signs to actual value. Figure out what to do with \"N/A\" values.\n",
    "* Clean categories column and find a way to separate categories<br>"
   ]
  },
  {
   "cell_type": "markdown",
   "metadata": {},
   "source": [
    "### Import libraries and CSV file:"
   ]
  },
  {
   "cell_type": "code",
   "execution_count": 1,
   "metadata": {
    "scrolled": true
   },
   "outputs": [
    {
     "data": {
      "text/html": [
       "<div>\n",
       "<style scoped>\n",
       "    .dataframe tbody tr th:only-of-type {\n",
       "        vertical-align: middle;\n",
       "    }\n",
       "\n",
       "    .dataframe tbody tr th {\n",
       "        vertical-align: top;\n",
       "    }\n",
       "\n",
       "    .dataframe thead th {\n",
       "        text-align: right;\n",
       "    }\n",
       "</style>\n",
       "<table border=\"1\" class=\"dataframe\">\n",
       "  <thead>\n",
       "    <tr style=\"text-align: right;\">\n",
       "      <th></th>\n",
       "      <th>name</th>\n",
       "      <th>rating</th>\n",
       "      <th>price</th>\n",
       "      <th>review_count</th>\n",
       "      <th>categories</th>\n",
       "    </tr>\n",
       "  </thead>\n",
       "  <tbody>\n",
       "    <tr>\n",
       "      <th>0</th>\n",
       "      <td>1. Toast</td>\n",
       "      <td>4 star rating</td>\n",
       "      <td>$$</td>\n",
       "      <td>619</td>\n",
       "      <td>['Southern, ', 'Gastropubs']</td>\n",
       "    </tr>\n",
       "    <tr>\n",
       "      <th>1</th>\n",
       "      <td>2. Lucky AF</td>\n",
       "      <td>5 star rating</td>\n",
       "      <td>NaN</td>\n",
       "      <td>9</td>\n",
       "      <td>['Asian Fusion, ', 'Sushi Bars, ', 'Pan Asian']</td>\n",
       "    </tr>\n",
       "    <tr>\n",
       "      <th>2</th>\n",
       "      <td>3. Stella’s</td>\n",
       "      <td>4.5 star rating</td>\n",
       "      <td>$$</td>\n",
       "      <td>715</td>\n",
       "      <td>['Mediterranean, ', 'Greek, ', 'Cocktail Bars']</td>\n",
       "    </tr>\n",
       "    <tr>\n",
       "      <th>3</th>\n",
       "      <td>4. Secret Sandwich Society</td>\n",
       "      <td>4.5 star rating</td>\n",
       "      <td>$$</td>\n",
       "      <td>936</td>\n",
       "      <td>['Burgers, ', 'Sandwiches, ', 'Cocktail Bars']</td>\n",
       "    </tr>\n",
       "    <tr>\n",
       "      <th>4</th>\n",
       "      <td>5. Laura Lee’s</td>\n",
       "      <td>4.5 star rating</td>\n",
       "      <td>$$</td>\n",
       "      <td>260</td>\n",
       "      <td>['American (New)']</td>\n",
       "    </tr>\n",
       "  </tbody>\n",
       "</table>\n",
       "</div>"
      ],
      "text/plain": [
       "                         name           rating price  review_count  \\\n",
       "0                    1. Toast    4 star rating    $$           619   \n",
       "1                 2. Lucky AF    5 star rating   NaN             9   \n",
       "2                 3. Stella’s  4.5 star rating    $$           715   \n",
       "3  4. Secret Sandwich Society  4.5 star rating    $$           936   \n",
       "4              5. Laura Lee’s  4.5 star rating    $$           260   \n",
       "\n",
       "                                        categories  \n",
       "0                     ['Southern, ', 'Gastropubs']  \n",
       "1  ['Asian Fusion, ', 'Sushi Bars, ', 'Pan Asian']  \n",
       "2  ['Mediterranean, ', 'Greek, ', 'Cocktail Bars']  \n",
       "3   ['Burgers, ', 'Sandwiches, ', 'Cocktail Bars']  \n",
       "4                               ['American (New)']  "
      ]
     },
     "execution_count": 1,
     "metadata": {},
     "output_type": "execute_result"
    }
   ],
   "source": [
    "import numpy as np\n",
    "import pandas as pd\n",
    "\n",
    "df = pd.read_csv('rva_restaurants_scraped.csv')\n",
    "df.head(5)"
   ]
  },
  {
   "cell_type": "markdown",
   "metadata": {},
   "source": [
    "### Clean 'name' column:"
   ]
  },
  {
   "cell_type": "markdown",
   "metadata": {},
   "source": [
    "Split ranking and name into separate columns:<br>\n",
    "https://www.geeksforgeeks.org/split-a-text-column-into-two-columns-in-pandas-dataframe/"
   ]
  },
  {
   "cell_type": "code",
   "execution_count": 2,
   "metadata": {},
   "outputs": [
    {
     "data": {
      "text/html": [
       "<div>\n",
       "<style scoped>\n",
       "    .dataframe tbody tr th:only-of-type {\n",
       "        vertical-align: middle;\n",
       "    }\n",
       "\n",
       "    .dataframe tbody tr th {\n",
       "        vertical-align: top;\n",
       "    }\n",
       "\n",
       "    .dataframe thead th {\n",
       "        text-align: right;\n",
       "    }\n",
       "</style>\n",
       "<table border=\"1\" class=\"dataframe\">\n",
       "  <thead>\n",
       "    <tr style=\"text-align: right;\">\n",
       "      <th></th>\n",
       "      <th>name</th>\n",
       "      <th>rating</th>\n",
       "      <th>price</th>\n",
       "      <th>review_count</th>\n",
       "      <th>categories</th>\n",
       "      <th>rank</th>\n",
       "    </tr>\n",
       "  </thead>\n",
       "  <tbody>\n",
       "    <tr>\n",
       "      <th>0</th>\n",
       "      <td>Toast</td>\n",
       "      <td>4 star rating</td>\n",
       "      <td>$$</td>\n",
       "      <td>619</td>\n",
       "      <td>['Southern, ', 'Gastropubs']</td>\n",
       "      <td>1</td>\n",
       "    </tr>\n",
       "    <tr>\n",
       "      <th>1</th>\n",
       "      <td>Lucky AF</td>\n",
       "      <td>5 star rating</td>\n",
       "      <td>NaN</td>\n",
       "      <td>9</td>\n",
       "      <td>['Asian Fusion, ', 'Sushi Bars, ', 'Pan Asian']</td>\n",
       "      <td>2</td>\n",
       "    </tr>\n",
       "    <tr>\n",
       "      <th>2</th>\n",
       "      <td>Stella’s</td>\n",
       "      <td>4.5 star rating</td>\n",
       "      <td>$$</td>\n",
       "      <td>715</td>\n",
       "      <td>['Mediterranean, ', 'Greek, ', 'Cocktail Bars']</td>\n",
       "      <td>3</td>\n",
       "    </tr>\n",
       "    <tr>\n",
       "      <th>3</th>\n",
       "      <td>Secret Sandwich Society</td>\n",
       "      <td>4.5 star rating</td>\n",
       "      <td>$$</td>\n",
       "      <td>936</td>\n",
       "      <td>['Burgers, ', 'Sandwiches, ', 'Cocktail Bars']</td>\n",
       "      <td>4</td>\n",
       "    </tr>\n",
       "    <tr>\n",
       "      <th>4</th>\n",
       "      <td>Laura Lee’s</td>\n",
       "      <td>4.5 star rating</td>\n",
       "      <td>$$</td>\n",
       "      <td>260</td>\n",
       "      <td>['American (New)']</td>\n",
       "      <td>5</td>\n",
       "    </tr>\n",
       "  </tbody>\n",
       "</table>\n",
       "</div>"
      ],
      "text/plain": [
       "                       name           rating price  review_count  \\\n",
       "0                     Toast    4 star rating    $$           619   \n",
       "1                  Lucky AF    5 star rating   NaN             9   \n",
       "2                  Stella’s  4.5 star rating    $$           715   \n",
       "3   Secret Sandwich Society  4.5 star rating    $$           936   \n",
       "4               Laura Lee’s  4.5 star rating    $$           260   \n",
       "\n",
       "                                        categories rank  \n",
       "0                     ['Southern, ', 'Gastropubs']    1  \n",
       "1  ['Asian Fusion, ', 'Sushi Bars, ', 'Pan Asian']    2  \n",
       "2  ['Mediterranean, ', 'Greek, ', 'Cocktail Bars']    3  \n",
       "3   ['Burgers, ', 'Sandwiches, ', 'Cocktail Bars']    4  \n",
       "4                               ['American (New)']    5  "
      ]
     },
     "execution_count": 2,
     "metadata": {},
     "output_type": "execute_result"
    }
   ],
   "source": [
    "# Use lambda expression/.apply() to split string\n",
    "df[['rank', 'name']] = df['name'].apply(lambda x: pd.Series(str(x).split('.')[0:2]))\n",
    "df.head()"
   ]
  },
  {
   "cell_type": "markdown",
   "metadata": {},
   "source": [
    "### Reordering columns; changing 'rank' type to int; setting 'rank' as integer index label:"
   ]
  },
  {
   "cell_type": "code",
   "execution_count": 3,
   "metadata": {},
   "outputs": [
    {
     "data": {
      "text/html": [
       "<div>\n",
       "<style scoped>\n",
       "    .dataframe tbody tr th:only-of-type {\n",
       "        vertical-align: middle;\n",
       "    }\n",
       "\n",
       "    .dataframe tbody tr th {\n",
       "        vertical-align: top;\n",
       "    }\n",
       "\n",
       "    .dataframe thead th {\n",
       "        text-align: right;\n",
       "    }\n",
       "</style>\n",
       "<table border=\"1\" class=\"dataframe\">\n",
       "  <thead>\n",
       "    <tr style=\"text-align: right;\">\n",
       "      <th></th>\n",
       "      <th>rank</th>\n",
       "      <th>name</th>\n",
       "      <th>rating</th>\n",
       "      <th>price</th>\n",
       "      <th>review_count</th>\n",
       "      <th>categories</th>\n",
       "    </tr>\n",
       "  </thead>\n",
       "  <tbody>\n",
       "    <tr>\n",
       "      <th>0</th>\n",
       "      <td>1</td>\n",
       "      <td>Toast</td>\n",
       "      <td>4 star rating</td>\n",
       "      <td>$$</td>\n",
       "      <td>619</td>\n",
       "      <td>['Southern, ', 'Gastropubs']</td>\n",
       "    </tr>\n",
       "    <tr>\n",
       "      <th>1</th>\n",
       "      <td>2</td>\n",
       "      <td>Lucky AF</td>\n",
       "      <td>5 star rating</td>\n",
       "      <td>NaN</td>\n",
       "      <td>9</td>\n",
       "      <td>['Asian Fusion, ', 'Sushi Bars, ', 'Pan Asian']</td>\n",
       "    </tr>\n",
       "    <tr>\n",
       "      <th>2</th>\n",
       "      <td>3</td>\n",
       "      <td>Stella’s</td>\n",
       "      <td>4.5 star rating</td>\n",
       "      <td>$$</td>\n",
       "      <td>715</td>\n",
       "      <td>['Mediterranean, ', 'Greek, ', 'Cocktail Bars']</td>\n",
       "    </tr>\n",
       "    <tr>\n",
       "      <th>3</th>\n",
       "      <td>4</td>\n",
       "      <td>Secret Sandwich Society</td>\n",
       "      <td>4.5 star rating</td>\n",
       "      <td>$$</td>\n",
       "      <td>936</td>\n",
       "      <td>['Burgers, ', 'Sandwiches, ', 'Cocktail Bars']</td>\n",
       "    </tr>\n",
       "    <tr>\n",
       "      <th>4</th>\n",
       "      <td>5</td>\n",
       "      <td>Laura Lee’s</td>\n",
       "      <td>4.5 star rating</td>\n",
       "      <td>$$</td>\n",
       "      <td>260</td>\n",
       "      <td>['American (New)']</td>\n",
       "    </tr>\n",
       "  </tbody>\n",
       "</table>\n",
       "</div>"
      ],
      "text/plain": [
       "  rank                      name           rating price  review_count  \\\n",
       "0    1                     Toast    4 star rating    $$           619   \n",
       "1    2                  Lucky AF    5 star rating   NaN             9   \n",
       "2    3                  Stella’s  4.5 star rating    $$           715   \n",
       "3    4   Secret Sandwich Society  4.5 star rating    $$           936   \n",
       "4    5               Laura Lee’s  4.5 star rating    $$           260   \n",
       "\n",
       "                                        categories  \n",
       "0                     ['Southern, ', 'Gastropubs']  \n",
       "1  ['Asian Fusion, ', 'Sushi Bars, ', 'Pan Asian']  \n",
       "2  ['Mediterranean, ', 'Greek, ', 'Cocktail Bars']  \n",
       "3   ['Burgers, ', 'Sandwiches, ', 'Cocktail Bars']  \n",
       "4                               ['American (New)']  "
      ]
     },
     "execution_count": 3,
     "metadata": {},
     "output_type": "execute_result"
    }
   ],
   "source": [
    "# Reorder by simply calling dataframe with difference column orders\n",
    "df = df[['rank','name','rating','price','review_count','categories']]\n",
    "df.head()"
   ]
  },
  {
   "cell_type": "code",
   "execution_count": 4,
   "metadata": {},
   "outputs": [],
   "source": [
    "# Change 'rank' data type from string to int\n",
    "df['rank'] = df['rank'].astype(int)"
   ]
  },
  {
   "cell_type": "code",
   "execution_count": 5,
   "metadata": {
    "scrolled": true
   },
   "outputs": [
    {
     "data": {
      "text/html": [
       "<div>\n",
       "<style scoped>\n",
       "    .dataframe tbody tr th:only-of-type {\n",
       "        vertical-align: middle;\n",
       "    }\n",
       "\n",
       "    .dataframe tbody tr th {\n",
       "        vertical-align: top;\n",
       "    }\n",
       "\n",
       "    .dataframe thead th {\n",
       "        text-align: right;\n",
       "    }\n",
       "</style>\n",
       "<table border=\"1\" class=\"dataframe\">\n",
       "  <thead>\n",
       "    <tr style=\"text-align: right;\">\n",
       "      <th></th>\n",
       "      <th>name</th>\n",
       "      <th>rating</th>\n",
       "      <th>price</th>\n",
       "      <th>review_count</th>\n",
       "      <th>categories</th>\n",
       "    </tr>\n",
       "    <tr>\n",
       "      <th>rank</th>\n",
       "      <th></th>\n",
       "      <th></th>\n",
       "      <th></th>\n",
       "      <th></th>\n",
       "      <th></th>\n",
       "    </tr>\n",
       "  </thead>\n",
       "  <tbody>\n",
       "    <tr>\n",
       "      <th>1</th>\n",
       "      <td>Toast</td>\n",
       "      <td>4 star rating</td>\n",
       "      <td>$$</td>\n",
       "      <td>619</td>\n",
       "      <td>['Southern, ', 'Gastropubs']</td>\n",
       "    </tr>\n",
       "    <tr>\n",
       "      <th>2</th>\n",
       "      <td>Lucky AF</td>\n",
       "      <td>5 star rating</td>\n",
       "      <td>NaN</td>\n",
       "      <td>9</td>\n",
       "      <td>['Asian Fusion, ', 'Sushi Bars, ', 'Pan Asian']</td>\n",
       "    </tr>\n",
       "    <tr>\n",
       "      <th>3</th>\n",
       "      <td>Stella’s</td>\n",
       "      <td>4.5 star rating</td>\n",
       "      <td>$$</td>\n",
       "      <td>715</td>\n",
       "      <td>['Mediterranean, ', 'Greek, ', 'Cocktail Bars']</td>\n",
       "    </tr>\n",
       "    <tr>\n",
       "      <th>4</th>\n",
       "      <td>Secret Sandwich Society</td>\n",
       "      <td>4.5 star rating</td>\n",
       "      <td>$$</td>\n",
       "      <td>936</td>\n",
       "      <td>['Burgers, ', 'Sandwiches, ', 'Cocktail Bars']</td>\n",
       "    </tr>\n",
       "    <tr>\n",
       "      <th>5</th>\n",
       "      <td>Laura Lee’s</td>\n",
       "      <td>4.5 star rating</td>\n",
       "      <td>$$</td>\n",
       "      <td>260</td>\n",
       "      <td>['American (New)']</td>\n",
       "    </tr>\n",
       "  </tbody>\n",
       "</table>\n",
       "</div>"
      ],
      "text/plain": [
       "                          name           rating price  review_count  \\\n",
       "rank                                                                  \n",
       "1                        Toast    4 star rating    $$           619   \n",
       "2                     Lucky AF    5 star rating   NaN             9   \n",
       "3                     Stella’s  4.5 star rating    $$           715   \n",
       "4      Secret Sandwich Society  4.5 star rating    $$           936   \n",
       "5                  Laura Lee’s  4.5 star rating    $$           260   \n",
       "\n",
       "                                           categories  \n",
       "rank                                                   \n",
       "1                        ['Southern, ', 'Gastropubs']  \n",
       "2     ['Asian Fusion, ', 'Sushi Bars, ', 'Pan Asian']  \n",
       "3     ['Mediterranean, ', 'Greek, ', 'Cocktail Bars']  \n",
       "4      ['Burgers, ', 'Sandwiches, ', 'Cocktail Bars']  \n",
       "5                                  ['American (New)']  "
      ]
     },
     "execution_count": 5,
     "metadata": {},
     "output_type": "execute_result"
    }
   ],
   "source": [
    "# Set 'rank' column as the dataframe index\n",
    "df.set_index('rank', inplace=True)\n",
    "df.head()"
   ]
  },
  {
   "cell_type": "markdown",
   "metadata": {},
   "source": [
    "### The 'name' column still keeps that weird substring \"\\xa0\" before every restaurant name. Let's get rid of that with a function:\n",
    "Note: This weird substring is not visible when you \"print\" the column, row call. However this affects if you want to use booleans to find a match."
   ]
  },
  {
   "cell_type": "code",
   "execution_count": 6,
   "metadata": {
    "scrolled": true
   },
   "outputs": [
    {
     "data": {
      "text/plain": [
       "'\\xa0Toast'"
      ]
     },
     "execution_count": 6,
     "metadata": {},
     "output_type": "execute_result"
    }
   ],
   "source": [
    "df['name'].loc[1]"
   ]
  },
  {
   "cell_type": "code",
   "execution_count": 7,
   "metadata": {
    "scrolled": false
   },
   "outputs": [
    {
     "data": {
      "text/html": [
       "<div>\n",
       "<style scoped>\n",
       "    .dataframe tbody tr th:only-of-type {\n",
       "        vertical-align: middle;\n",
       "    }\n",
       "\n",
       "    .dataframe tbody tr th {\n",
       "        vertical-align: top;\n",
       "    }\n",
       "\n",
       "    .dataframe thead th {\n",
       "        text-align: right;\n",
       "    }\n",
       "</style>\n",
       "<table border=\"1\" class=\"dataframe\">\n",
       "  <thead>\n",
       "    <tr style=\"text-align: right;\">\n",
       "      <th></th>\n",
       "      <th>name</th>\n",
       "      <th>rating</th>\n",
       "      <th>price</th>\n",
       "      <th>review_count</th>\n",
       "      <th>categories</th>\n",
       "    </tr>\n",
       "    <tr>\n",
       "      <th>rank</th>\n",
       "      <th></th>\n",
       "      <th></th>\n",
       "      <th></th>\n",
       "      <th></th>\n",
       "      <th></th>\n",
       "    </tr>\n",
       "  </thead>\n",
       "  <tbody>\n",
       "  </tbody>\n",
       "</table>\n",
       "</div>"
      ],
      "text/plain": [
       "Empty DataFrame\n",
       "Columns: [name, rating, price, review_count, categories]\n",
       "Index: []"
      ]
     },
     "execution_count": 7,
     "metadata": {},
     "output_type": "execute_result"
    }
   ],
   "source": [
    "# Nothing will come up\n",
    "df[df['name']=='Toast']"
   ]
  },
  {
   "cell_type": "markdown",
   "metadata": {},
   "source": [
    "Write function cleanName() to edit for patterns in name string. Use .apply() and lambda functions:"
   ]
  },
  {
   "cell_type": "code",
   "execution_count": 8,
   "metadata": {},
   "outputs": [],
   "source": [
    "def cleanName(x):\n",
    "    if '\\xa0' in x:\n",
    "        x = x.replace('\\xa0','')\n",
    "        return x\n",
    "\n",
    "df['name'] = df['name'].apply(lambda x: cleanName(x))\n",
    "\n",
    "### Previous use of pure Python for loop\n",
    "\n",
    "# for i in range(1, len(df['name'])+1):    \n",
    "#     if '\\xa0' in df['name'].loc[i]:\n",
    "#         df['name'].loc[i] = df['name'].loc[i].replace('\\xa0','')\n",
    "\n",
    "# df['name'].loc[1]"
   ]
  },
  {
   "cell_type": "markdown",
   "metadata": {},
   "source": [
    "Run some test scripts:"
   ]
  },
  {
   "cell_type": "code",
   "execution_count": 9,
   "metadata": {
    "scrolled": true
   },
   "outputs": [
    {
     "data": {
      "text/plain": [
       "'Tazza Kitchen Scott’s Addition'"
      ]
     },
     "execution_count": 9,
     "metadata": {},
     "output_type": "execute_result"
    }
   ],
   "source": [
    "df['name'].loc[50]"
   ]
  },
  {
   "cell_type": "code",
   "execution_count": 10,
   "metadata": {},
   "outputs": [
    {
     "data": {
      "text/html": [
       "<div>\n",
       "<style scoped>\n",
       "    .dataframe tbody tr th:only-of-type {\n",
       "        vertical-align: middle;\n",
       "    }\n",
       "\n",
       "    .dataframe tbody tr th {\n",
       "        vertical-align: top;\n",
       "    }\n",
       "\n",
       "    .dataframe thead th {\n",
       "        text-align: right;\n",
       "    }\n",
       "</style>\n",
       "<table border=\"1\" class=\"dataframe\">\n",
       "  <thead>\n",
       "    <tr style=\"text-align: right;\">\n",
       "      <th></th>\n",
       "      <th>name</th>\n",
       "      <th>rating</th>\n",
       "      <th>price</th>\n",
       "      <th>review_count</th>\n",
       "      <th>categories</th>\n",
       "    </tr>\n",
       "    <tr>\n",
       "      <th>rank</th>\n",
       "      <th></th>\n",
       "      <th></th>\n",
       "      <th></th>\n",
       "      <th></th>\n",
       "      <th></th>\n",
       "    </tr>\n",
       "  </thead>\n",
       "  <tbody>\n",
       "    <tr>\n",
       "      <th>1</th>\n",
       "      <td>Toast</td>\n",
       "      <td>4 star rating</td>\n",
       "      <td>$$</td>\n",
       "      <td>619</td>\n",
       "      <td>['Southern, ', 'Gastropubs']</td>\n",
       "    </tr>\n",
       "  </tbody>\n",
       "</table>\n",
       "</div>"
      ],
      "text/plain": [
       "       name         rating price  review_count                    categories\n",
       "rank                                                                        \n",
       "1     Toast  4 star rating    $$           619  ['Southern, ', 'Gastropubs']"
      ]
     },
     "execution_count": 10,
     "metadata": {},
     "output_type": "execute_result"
    }
   ],
   "source": [
    "df[df['name'] =='Toast']"
   ]
  },
  {
   "cell_type": "code",
   "execution_count": 11,
   "metadata": {
    "scrolled": false
   },
   "outputs": [
    {
     "data": {
      "text/plain": [
       "'Tres Machos'"
      ]
     },
     "execution_count": 11,
     "metadata": {},
     "output_type": "execute_result"
    }
   ],
   "source": [
    "df['name'].loc[45]"
   ]
  },
  {
   "cell_type": "code",
   "execution_count": 12,
   "metadata": {},
   "outputs": [
    {
     "data": {
      "text/html": [
       "<div>\n",
       "<style scoped>\n",
       "    .dataframe tbody tr th:only-of-type {\n",
       "        vertical-align: middle;\n",
       "    }\n",
       "\n",
       "    .dataframe tbody tr th {\n",
       "        vertical-align: top;\n",
       "    }\n",
       "\n",
       "    .dataframe thead th {\n",
       "        text-align: right;\n",
       "    }\n",
       "</style>\n",
       "<table border=\"1\" class=\"dataframe\">\n",
       "  <thead>\n",
       "    <tr style=\"text-align: right;\">\n",
       "      <th></th>\n",
       "      <th>name</th>\n",
       "      <th>rating</th>\n",
       "      <th>price</th>\n",
       "      <th>review_count</th>\n",
       "      <th>categories</th>\n",
       "    </tr>\n",
       "    <tr>\n",
       "      <th>rank</th>\n",
       "      <th></th>\n",
       "      <th></th>\n",
       "      <th></th>\n",
       "      <th></th>\n",
       "      <th></th>\n",
       "    </tr>\n",
       "  </thead>\n",
       "  <tbody>\n",
       "    <tr>\n",
       "      <th>45</th>\n",
       "      <td>Tres Machos</td>\n",
       "      <td>4 star rating</td>\n",
       "      <td>$$</td>\n",
       "      <td>89</td>\n",
       "      <td>['Mexican']</td>\n",
       "    </tr>\n",
       "  </tbody>\n",
       "</table>\n",
       "</div>"
      ],
      "text/plain": [
       "             name         rating price  review_count   categories\n",
       "rank                                                             \n",
       "45    Tres Machos  4 star rating    $$            89  ['Mexican']"
      ]
     },
     "execution_count": 12,
     "metadata": {},
     "output_type": "execute_result"
    }
   ],
   "source": [
    "df[df['name']=='Tres Machos']"
   ]
  },
  {
   "cell_type": "markdown",
   "metadata": {},
   "source": [
    "### Convert the star rating column to *just* the integer so we can quantify later:"
   ]
  },
  {
   "cell_type": "code",
   "execution_count": 13,
   "metadata": {},
   "outputs": [
    {
     "data": {
      "text/html": [
       "<div>\n",
       "<style scoped>\n",
       "    .dataframe tbody tr th:only-of-type {\n",
       "        vertical-align: middle;\n",
       "    }\n",
       "\n",
       "    .dataframe tbody tr th {\n",
       "        vertical-align: top;\n",
       "    }\n",
       "\n",
       "    .dataframe thead th {\n",
       "        text-align: right;\n",
       "    }\n",
       "</style>\n",
       "<table border=\"1\" class=\"dataframe\">\n",
       "  <thead>\n",
       "    <tr style=\"text-align: right;\">\n",
       "      <th></th>\n",
       "      <th>name</th>\n",
       "      <th>rating</th>\n",
       "      <th>price</th>\n",
       "      <th>review_count</th>\n",
       "      <th>categories</th>\n",
       "    </tr>\n",
       "    <tr>\n",
       "      <th>rank</th>\n",
       "      <th></th>\n",
       "      <th></th>\n",
       "      <th></th>\n",
       "      <th></th>\n",
       "      <th></th>\n",
       "    </tr>\n",
       "  </thead>\n",
       "  <tbody>\n",
       "    <tr>\n",
       "      <th>1</th>\n",
       "      <td>Toast</td>\n",
       "      <td>4.0</td>\n",
       "      <td>$$</td>\n",
       "      <td>619</td>\n",
       "      <td>['Southern, ', 'Gastropubs']</td>\n",
       "    </tr>\n",
       "    <tr>\n",
       "      <th>2</th>\n",
       "      <td>Lucky AF</td>\n",
       "      <td>5.0</td>\n",
       "      <td>NaN</td>\n",
       "      <td>9</td>\n",
       "      <td>['Asian Fusion, ', 'Sushi Bars, ', 'Pan Asian']</td>\n",
       "    </tr>\n",
       "    <tr>\n",
       "      <th>3</th>\n",
       "      <td>Stella’s</td>\n",
       "      <td>4.5</td>\n",
       "      <td>$$</td>\n",
       "      <td>715</td>\n",
       "      <td>['Mediterranean, ', 'Greek, ', 'Cocktail Bars']</td>\n",
       "    </tr>\n",
       "    <tr>\n",
       "      <th>4</th>\n",
       "      <td>Secret Sandwich Society</td>\n",
       "      <td>4.5</td>\n",
       "      <td>$$</td>\n",
       "      <td>936</td>\n",
       "      <td>['Burgers, ', 'Sandwiches, ', 'Cocktail Bars']</td>\n",
       "    </tr>\n",
       "    <tr>\n",
       "      <th>5</th>\n",
       "      <td>Laura Lee’s</td>\n",
       "      <td>4.5</td>\n",
       "      <td>$$</td>\n",
       "      <td>260</td>\n",
       "      <td>['American (New)']</td>\n",
       "    </tr>\n",
       "  </tbody>\n",
       "</table>\n",
       "</div>"
      ],
      "text/plain": [
       "                         name  rating price  review_count  \\\n",
       "rank                                                        \n",
       "1                       Toast     4.0    $$           619   \n",
       "2                    Lucky AF     5.0   NaN             9   \n",
       "3                    Stella’s     4.5    $$           715   \n",
       "4     Secret Sandwich Society     4.5    $$           936   \n",
       "5                 Laura Lee’s     4.5    $$           260   \n",
       "\n",
       "                                           categories  \n",
       "rank                                                   \n",
       "1                        ['Southern, ', 'Gastropubs']  \n",
       "2     ['Asian Fusion, ', 'Sushi Bars, ', 'Pan Asian']  \n",
       "3     ['Mediterranean, ', 'Greek, ', 'Cocktail Bars']  \n",
       "4      ['Burgers, ', 'Sandwiches, ', 'Cocktail Bars']  \n",
       "5                                  ['American (New)']  "
      ]
     },
     "execution_count": 13,
     "metadata": {},
     "output_type": "execute_result"
    }
   ],
   "source": [
    "def cleanRatings(rating):\n",
    "    if ' star rating' in rating:\n",
    "        rating = rating.replace(' star rating' , '')\n",
    "        return rating\n",
    "    \n",
    "df['rating'] = df['rating'].apply(lambda rating: cleanRatings(rating))\n",
    "\n",
    "# Change data type to integer\n",
    "df['rating'] = df['rating'].astype(float)\n",
    "df.head()\n",
    "\n",
    "# Previous pure Python for loop\n",
    "# for i in range(1, len(df['rating'])+1):    \n",
    "#     if ' star rating' in df['rating'].loc[i]:\n",
    "#         df['rating'].loc[i] = df['rating'].loc[i].replace(' star rating','')"
   ]
  },
  {
   "cell_type": "markdown",
   "metadata": {},
   "source": [
    "### Can't quantify and operate on dollar signs. Convert them into a normalized numerical scale (1-4):\n",
    "I'll create a function and map/apply it to the df['price'] column.\n",
    "<br><br>\n",
    "Note: we cannot translate dollar signs to exact prices as each number of signs translates to *range* of meal prices per person (incl. tax, tips, etc).\n",
    "* 1 = under 10 dollars\n",
    "* 2 = 11-30 dollars\n",
    "* 3 = 31-60 dollars\n",
    "* 4 = over 61 dollars"
   ]
  },
  {
   "cell_type": "code",
   "execution_count": 14,
   "metadata": {},
   "outputs": [],
   "source": [
    "# Create function to translate dollar signs into normalized price ranges 1-4.\n",
    "def priceTranslator(price):\n",
    "    '''\n",
    "    Input df['price'] via lambda and this will convert dollar signs into normalized integers that we can operate on.\\\n",
    "    We can't put exact prices because each dollar sign signifies a range of prices. We will scale 1 to 4.\n",
    "    '''\n",
    "    try:\n",
    "        if price == '$':\n",
    "            return 1\n",
    "        elif price == '$$':\n",
    "            return 2\n",
    "        if price == '$$$':\n",
    "            return 3\n",
    "        if price == '$$$$':\n",
    "            return 4\n",
    "    except:\n",
    "        pass"
   ]
  },
  {
   "cell_type": "code",
   "execution_count": 15,
   "metadata": {
    "scrolled": false
   },
   "outputs": [
    {
     "data": {
      "text/html": [
       "<div>\n",
       "<style scoped>\n",
       "    .dataframe tbody tr th:only-of-type {\n",
       "        vertical-align: middle;\n",
       "    }\n",
       "\n",
       "    .dataframe tbody tr th {\n",
       "        vertical-align: top;\n",
       "    }\n",
       "\n",
       "    .dataframe thead th {\n",
       "        text-align: right;\n",
       "    }\n",
       "</style>\n",
       "<table border=\"1\" class=\"dataframe\">\n",
       "  <thead>\n",
       "    <tr style=\"text-align: right;\">\n",
       "      <th></th>\n",
       "      <th>name</th>\n",
       "      <th>rating</th>\n",
       "      <th>price</th>\n",
       "      <th>priceIndex</th>\n",
       "      <th>review_count</th>\n",
       "      <th>categories</th>\n",
       "    </tr>\n",
       "    <tr>\n",
       "      <th>rank</th>\n",
       "      <th></th>\n",
       "      <th></th>\n",
       "      <th></th>\n",
       "      <th></th>\n",
       "      <th></th>\n",
       "      <th></th>\n",
       "    </tr>\n",
       "  </thead>\n",
       "  <tbody>\n",
       "    <tr>\n",
       "      <th>1</th>\n",
       "      <td>Toast</td>\n",
       "      <td>4.0</td>\n",
       "      <td>$$</td>\n",
       "      <td>2.0</td>\n",
       "      <td>619</td>\n",
       "      <td>['Southern, ', 'Gastropubs']</td>\n",
       "    </tr>\n",
       "    <tr>\n",
       "      <th>2</th>\n",
       "      <td>Lucky AF</td>\n",
       "      <td>5.0</td>\n",
       "      <td>NaN</td>\n",
       "      <td>NaN</td>\n",
       "      <td>9</td>\n",
       "      <td>['Asian Fusion, ', 'Sushi Bars, ', 'Pan Asian']</td>\n",
       "    </tr>\n",
       "    <tr>\n",
       "      <th>3</th>\n",
       "      <td>Stella’s</td>\n",
       "      <td>4.5</td>\n",
       "      <td>$$</td>\n",
       "      <td>2.0</td>\n",
       "      <td>715</td>\n",
       "      <td>['Mediterranean, ', 'Greek, ', 'Cocktail Bars']</td>\n",
       "    </tr>\n",
       "    <tr>\n",
       "      <th>4</th>\n",
       "      <td>Secret Sandwich Society</td>\n",
       "      <td>4.5</td>\n",
       "      <td>$$</td>\n",
       "      <td>2.0</td>\n",
       "      <td>936</td>\n",
       "      <td>['Burgers, ', 'Sandwiches, ', 'Cocktail Bars']</td>\n",
       "    </tr>\n",
       "    <tr>\n",
       "      <th>5</th>\n",
       "      <td>Laura Lee’s</td>\n",
       "      <td>4.5</td>\n",
       "      <td>$$</td>\n",
       "      <td>2.0</td>\n",
       "      <td>260</td>\n",
       "      <td>['American (New)']</td>\n",
       "    </tr>\n",
       "  </tbody>\n",
       "</table>\n",
       "</div>"
      ],
      "text/plain": [
       "                         name  rating price  priceIndex  review_count  \\\n",
       "rank                                                                    \n",
       "1                       Toast     4.0    $$         2.0           619   \n",
       "2                    Lucky AF     5.0   NaN         NaN             9   \n",
       "3                    Stella’s     4.5    $$         2.0           715   \n",
       "4     Secret Sandwich Society     4.5    $$         2.0           936   \n",
       "5                 Laura Lee’s     4.5    $$         2.0           260   \n",
       "\n",
       "                                           categories  \n",
       "rank                                                   \n",
       "1                        ['Southern, ', 'Gastropubs']  \n",
       "2     ['Asian Fusion, ', 'Sushi Bars, ', 'Pan Asian']  \n",
       "3     ['Mediterranean, ', 'Greek, ', 'Cocktail Bars']  \n",
       "4      ['Burgers, ', 'Sandwiches, ', 'Cocktail Bars']  \n",
       "5                                  ['American (New)']  "
      ]
     },
     "execution_count": 15,
     "metadata": {},
     "output_type": "execute_result"
    }
   ],
   "source": [
    "# Applied lambda function\n",
    "df['priceIndex'] = df['price'].apply(lambda x: priceTranslator(x))\n",
    "# Reorder columns\n",
    "df = df[['name','rating','price','priceIndex','review_count','categories']]\n",
    "df.head()"
   ]
  },
  {
   "cell_type": "code",
   "execution_count": 16,
   "metadata": {},
   "outputs": [
    {
     "data": {
      "text/html": [
       "<div>\n",
       "<style scoped>\n",
       "    .dataframe tbody tr th:only-of-type {\n",
       "        vertical-align: middle;\n",
       "    }\n",
       "\n",
       "    .dataframe tbody tr th {\n",
       "        vertical-align: top;\n",
       "    }\n",
       "\n",
       "    .dataframe thead th {\n",
       "        text-align: right;\n",
       "    }\n",
       "</style>\n",
       "<table border=\"1\" class=\"dataframe\">\n",
       "  <thead>\n",
       "    <tr style=\"text-align: right;\">\n",
       "      <th></th>\n",
       "      <th>name</th>\n",
       "      <th>rating</th>\n",
       "      <th>price</th>\n",
       "      <th>priceIndex</th>\n",
       "      <th>reviewCount</th>\n",
       "      <th>categories</th>\n",
       "    </tr>\n",
       "    <tr>\n",
       "      <th>rank</th>\n",
       "      <th></th>\n",
       "      <th></th>\n",
       "      <th></th>\n",
       "      <th></th>\n",
       "      <th></th>\n",
       "      <th></th>\n",
       "    </tr>\n",
       "  </thead>\n",
       "  <tbody>\n",
       "    <tr>\n",
       "      <th>1</th>\n",
       "      <td>Toast</td>\n",
       "      <td>4.0</td>\n",
       "      <td>$$</td>\n",
       "      <td>2.0</td>\n",
       "      <td>619</td>\n",
       "      <td>['Southern, ', 'Gastropubs']</td>\n",
       "    </tr>\n",
       "    <tr>\n",
       "      <th>2</th>\n",
       "      <td>Lucky AF</td>\n",
       "      <td>5.0</td>\n",
       "      <td>NaN</td>\n",
       "      <td>NaN</td>\n",
       "      <td>9</td>\n",
       "      <td>['Asian Fusion, ', 'Sushi Bars, ', 'Pan Asian']</td>\n",
       "    </tr>\n",
       "    <tr>\n",
       "      <th>3</th>\n",
       "      <td>Stella’s</td>\n",
       "      <td>4.5</td>\n",
       "      <td>$$</td>\n",
       "      <td>2.0</td>\n",
       "      <td>715</td>\n",
       "      <td>['Mediterranean, ', 'Greek, ', 'Cocktail Bars']</td>\n",
       "    </tr>\n",
       "    <tr>\n",
       "      <th>4</th>\n",
       "      <td>Secret Sandwich Society</td>\n",
       "      <td>4.5</td>\n",
       "      <td>$$</td>\n",
       "      <td>2.0</td>\n",
       "      <td>936</td>\n",
       "      <td>['Burgers, ', 'Sandwiches, ', 'Cocktail Bars']</td>\n",
       "    </tr>\n",
       "    <tr>\n",
       "      <th>5</th>\n",
       "      <td>Laura Lee’s</td>\n",
       "      <td>4.5</td>\n",
       "      <td>$$</td>\n",
       "      <td>2.0</td>\n",
       "      <td>260</td>\n",
       "      <td>['American (New)']</td>\n",
       "    </tr>\n",
       "  </tbody>\n",
       "</table>\n",
       "</div>"
      ],
      "text/plain": [
       "                         name  rating price  priceIndex  reviewCount  \\\n",
       "rank                                                                   \n",
       "1                       Toast     4.0    $$         2.0          619   \n",
       "2                    Lucky AF     5.0   NaN         NaN            9   \n",
       "3                    Stella’s     4.5    $$         2.0          715   \n",
       "4     Secret Sandwich Society     4.5    $$         2.0          936   \n",
       "5                 Laura Lee’s     4.5    $$         2.0          260   \n",
       "\n",
       "                                           categories  \n",
       "rank                                                   \n",
       "1                        ['Southern, ', 'Gastropubs']  \n",
       "2     ['Asian Fusion, ', 'Sushi Bars, ', 'Pan Asian']  \n",
       "3     ['Mediterranean, ', 'Greek, ', 'Cocktail Bars']  \n",
       "4      ['Burgers, ', 'Sandwiches, ', 'Cocktail Bars']  \n",
       "5                                  ['American (New)']  "
      ]
     },
     "execution_count": 16,
     "metadata": {},
     "output_type": "execute_result"
    }
   ],
   "source": [
    "df.rename(columns = {'review_count':'reviewCount'}, inplace=True)\n",
    "df.head()"
   ]
  },
  {
   "cell_type": "markdown",
   "metadata": {},
   "source": [
    "### Edit the 'categories' column to look cleaner:\n",
    "* Remove excess commas and string brackets.\n",
    "* Then convert it to an actual list. (Note: the final result will \"look\" the same but we will be able iterate through it)\n",
    "* Use `.explode('categories')` to unnest 'categories' column which is a column of lists\n",
    "* Note: We will need to clean it when we reupload it to another notebook."
   ]
  },
  {
   "cell_type": "markdown",
   "metadata": {},
   "source": [
    "We need to clean the strings in this column first:<br>\n",
    "* Let's remove the excess commas and quotation marks\n",
    "* CLEAN UP THIS METHOD!"
   ]
  },
  {
   "cell_type": "code",
   "execution_count": 17,
   "metadata": {
    "scrolled": false
   },
   "outputs": [
    {
     "data": {
      "text/html": [
       "<div>\n",
       "<style scoped>\n",
       "    .dataframe tbody tr th:only-of-type {\n",
       "        vertical-align: middle;\n",
       "    }\n",
       "\n",
       "    .dataframe tbody tr th {\n",
       "        vertical-align: top;\n",
       "    }\n",
       "\n",
       "    .dataframe thead th {\n",
       "        text-align: right;\n",
       "    }\n",
       "</style>\n",
       "<table border=\"1\" class=\"dataframe\">\n",
       "  <thead>\n",
       "    <tr style=\"text-align: right;\">\n",
       "      <th></th>\n",
       "      <th>name</th>\n",
       "      <th>rating</th>\n",
       "      <th>price</th>\n",
       "      <th>priceIndex</th>\n",
       "      <th>reviewCount</th>\n",
       "      <th>categories</th>\n",
       "    </tr>\n",
       "    <tr>\n",
       "      <th>rank</th>\n",
       "      <th></th>\n",
       "      <th></th>\n",
       "      <th></th>\n",
       "      <th></th>\n",
       "      <th></th>\n",
       "      <th></th>\n",
       "    </tr>\n",
       "  </thead>\n",
       "  <tbody>\n",
       "    <tr>\n",
       "      <th>1</th>\n",
       "      <td>Toast</td>\n",
       "      <td>4.0</td>\n",
       "      <td>$$</td>\n",
       "      <td>2.0</td>\n",
       "      <td>619</td>\n",
       "      <td>['Southern, ', 'Gastropubs']</td>\n",
       "    </tr>\n",
       "    <tr>\n",
       "      <th>2</th>\n",
       "      <td>Lucky AF</td>\n",
       "      <td>5.0</td>\n",
       "      <td>NaN</td>\n",
       "      <td>NaN</td>\n",
       "      <td>9</td>\n",
       "      <td>['Asian Fusion, ', 'Sushi Bars, ', 'Pan Asian']</td>\n",
       "    </tr>\n",
       "    <tr>\n",
       "      <th>3</th>\n",
       "      <td>Stella’s</td>\n",
       "      <td>4.5</td>\n",
       "      <td>$$</td>\n",
       "      <td>2.0</td>\n",
       "      <td>715</td>\n",
       "      <td>['Mediterranean, ', 'Greek, ', 'Cocktail Bars']</td>\n",
       "    </tr>\n",
       "    <tr>\n",
       "      <th>4</th>\n",
       "      <td>Secret Sandwich Society</td>\n",
       "      <td>4.5</td>\n",
       "      <td>$$</td>\n",
       "      <td>2.0</td>\n",
       "      <td>936</td>\n",
       "      <td>['Burgers, ', 'Sandwiches, ', 'Cocktail Bars']</td>\n",
       "    </tr>\n",
       "    <tr>\n",
       "      <th>5</th>\n",
       "      <td>Laura Lee’s</td>\n",
       "      <td>4.5</td>\n",
       "      <td>$$</td>\n",
       "      <td>2.0</td>\n",
       "      <td>260</td>\n",
       "      <td>['American (New)']</td>\n",
       "    </tr>\n",
       "  </tbody>\n",
       "</table>\n",
       "</div>"
      ],
      "text/plain": [
       "                         name  rating price  priceIndex  reviewCount  \\\n",
       "rank                                                                   \n",
       "1                       Toast     4.0    $$         2.0          619   \n",
       "2                    Lucky AF     5.0   NaN         NaN            9   \n",
       "3                    Stella’s     4.5    $$         2.0          715   \n",
       "4     Secret Sandwich Society     4.5    $$         2.0          936   \n",
       "5                 Laura Lee’s     4.5    $$         2.0          260   \n",
       "\n",
       "                                           categories  \n",
       "rank                                                   \n",
       "1                        ['Southern, ', 'Gastropubs']  \n",
       "2     ['Asian Fusion, ', 'Sushi Bars, ', 'Pan Asian']  \n",
       "3     ['Mediterranean, ', 'Greek, ', 'Cocktail Bars']  \n",
       "4      ['Burgers, ', 'Sandwiches, ', 'Cocktail Bars']  \n",
       "5                                  ['American (New)']  "
      ]
     },
     "execution_count": 17,
     "metadata": {},
     "output_type": "execute_result"
    }
   ],
   "source": [
    "df.head()"
   ]
  },
  {
   "cell_type": "code",
   "execution_count": 24,
   "metadata": {
    "collapsed": true
   },
   "outputs": [
    {
     "ename": "AttributeError",
     "evalue": "'list' object has no attribute 'replace'",
     "output_type": "error",
     "traceback": [
      "\u001b[0;31m---------------------------------------------------------------------------\u001b[0m",
      "\u001b[0;31mAttributeError\u001b[0m                            Traceback (most recent call last)",
      "\u001b[0;32m<ipython-input-24-5affab91f6dd>\u001b[0m in \u001b[0;36m<module>\u001b[0;34m\u001b[0m\n\u001b[1;32m     11\u001b[0m \u001b[0mreplace_values\u001b[0m \u001b[0;34m=\u001b[0m \u001b[0;34m{\u001b[0m\u001b[0;34m\"['\"\u001b[0m \u001b[0;34m:\u001b[0m \u001b[0;34m\"\"\u001b[0m\u001b[0;34m,\u001b[0m \u001b[0;34m\"']\"\u001b[0m \u001b[0;34m:\u001b[0m \u001b[0;34m\"\"\u001b[0m\u001b[0;34m,\u001b[0m \u001b[0;34m\", ', '\"\u001b[0m\u001b[0;34m:\u001b[0m \u001b[0;34m\", \"\u001b[0m\u001b[0;34m}\u001b[0m\u001b[0;34m\u001b[0m\u001b[0;34m\u001b[0m\u001b[0m\n\u001b[1;32m     12\u001b[0m \u001b[0;34m\u001b[0m\u001b[0m\n\u001b[0;32m---> 13\u001b[0;31m \u001b[0mdf\u001b[0m\u001b[0;34m[\u001b[0m\u001b[0;34m'categories'\u001b[0m\u001b[0;34m]\u001b[0m\u001b[0;34m.\u001b[0m\u001b[0mapply\u001b[0m\u001b[0;34m(\u001b[0m\u001b[0;32mlambda\u001b[0m \u001b[0mlist\u001b[0m\u001b[0;34m:\u001b[0m \u001b[0mcleanCategories\u001b[0m\u001b[0;34m(\u001b[0m\u001b[0mlist\u001b[0m\u001b[0;34m,\u001b[0m \u001b[0mreplace_values\u001b[0m\u001b[0;34m)\u001b[0m\u001b[0;34m)\u001b[0m\u001b[0;34m\u001b[0m\u001b[0;34m\u001b[0m\u001b[0m\n\u001b[0m",
      "\u001b[0;32m/opt/anaconda3/lib/python3.7/site-packages/pandas/core/series.py\u001b[0m in \u001b[0;36mapply\u001b[0;34m(self, func, convert_dtype, args, **kwds)\u001b[0m\n\u001b[1;32m   3846\u001b[0m             \u001b[0;32melse\u001b[0m\u001b[0;34m:\u001b[0m\u001b[0;34m\u001b[0m\u001b[0;34m\u001b[0m\u001b[0m\n\u001b[1;32m   3847\u001b[0m                 \u001b[0mvalues\u001b[0m \u001b[0;34m=\u001b[0m \u001b[0mself\u001b[0m\u001b[0;34m.\u001b[0m\u001b[0mastype\u001b[0m\u001b[0;34m(\u001b[0m\u001b[0mobject\u001b[0m\u001b[0;34m)\u001b[0m\u001b[0;34m.\u001b[0m\u001b[0mvalues\u001b[0m\u001b[0;34m\u001b[0m\u001b[0;34m\u001b[0m\u001b[0m\n\u001b[0;32m-> 3848\u001b[0;31m                 \u001b[0mmapped\u001b[0m \u001b[0;34m=\u001b[0m \u001b[0mlib\u001b[0m\u001b[0;34m.\u001b[0m\u001b[0mmap_infer\u001b[0m\u001b[0;34m(\u001b[0m\u001b[0mvalues\u001b[0m\u001b[0;34m,\u001b[0m \u001b[0mf\u001b[0m\u001b[0;34m,\u001b[0m \u001b[0mconvert\u001b[0m\u001b[0;34m=\u001b[0m\u001b[0mconvert_dtype\u001b[0m\u001b[0;34m)\u001b[0m\u001b[0;34m\u001b[0m\u001b[0;34m\u001b[0m\u001b[0m\n\u001b[0m\u001b[1;32m   3849\u001b[0m \u001b[0;34m\u001b[0m\u001b[0m\n\u001b[1;32m   3850\u001b[0m         \u001b[0;32mif\u001b[0m \u001b[0mlen\u001b[0m\u001b[0;34m(\u001b[0m\u001b[0mmapped\u001b[0m\u001b[0;34m)\u001b[0m \u001b[0;32mand\u001b[0m \u001b[0misinstance\u001b[0m\u001b[0;34m(\u001b[0m\u001b[0mmapped\u001b[0m\u001b[0;34m[\u001b[0m\u001b[0;36m0\u001b[0m\u001b[0;34m]\u001b[0m\u001b[0;34m,\u001b[0m \u001b[0mSeries\u001b[0m\u001b[0;34m)\u001b[0m\u001b[0;34m:\u001b[0m\u001b[0;34m\u001b[0m\u001b[0;34m\u001b[0m\u001b[0m\n",
      "\u001b[0;32mpandas/_libs/lib.pyx\u001b[0m in \u001b[0;36mpandas._libs.lib.map_infer\u001b[0;34m()\u001b[0m\n",
      "\u001b[0;32m<ipython-input-24-5affab91f6dd>\u001b[0m in \u001b[0;36m<lambda>\u001b[0;34m(list)\u001b[0m\n\u001b[1;32m     11\u001b[0m \u001b[0mreplace_values\u001b[0m \u001b[0;34m=\u001b[0m \u001b[0;34m{\u001b[0m\u001b[0;34m\"['\"\u001b[0m \u001b[0;34m:\u001b[0m \u001b[0;34m\"\"\u001b[0m\u001b[0;34m,\u001b[0m \u001b[0;34m\"']\"\u001b[0m \u001b[0;34m:\u001b[0m \u001b[0;34m\"\"\u001b[0m\u001b[0;34m,\u001b[0m \u001b[0;34m\", ', '\"\u001b[0m\u001b[0;34m:\u001b[0m \u001b[0;34m\", \"\u001b[0m\u001b[0;34m}\u001b[0m\u001b[0;34m\u001b[0m\u001b[0;34m\u001b[0m\u001b[0m\n\u001b[1;32m     12\u001b[0m \u001b[0;34m\u001b[0m\u001b[0m\n\u001b[0;32m---> 13\u001b[0;31m \u001b[0mdf\u001b[0m\u001b[0;34m[\u001b[0m\u001b[0;34m'categories'\u001b[0m\u001b[0;34m]\u001b[0m\u001b[0;34m.\u001b[0m\u001b[0mapply\u001b[0m\u001b[0;34m(\u001b[0m\u001b[0;32mlambda\u001b[0m \u001b[0mlist\u001b[0m\u001b[0;34m:\u001b[0m \u001b[0mcleanCategories\u001b[0m\u001b[0;34m(\u001b[0m\u001b[0mlist\u001b[0m\u001b[0;34m,\u001b[0m \u001b[0mreplace_values\u001b[0m\u001b[0;34m)\u001b[0m\u001b[0;34m)\u001b[0m\u001b[0;34m\u001b[0m\u001b[0;34m\u001b[0m\u001b[0m\n\u001b[0m",
      "\u001b[0;32m<ipython-input-24-5affab91f6dd>\u001b[0m in \u001b[0;36mcleanCategories\u001b[0;34m(list, dict)\u001b[0m\n\u001b[1;32m      5\u001b[0m     '''\n\u001b[1;32m      6\u001b[0m     \u001b[0;32mfor\u001b[0m \u001b[0mkey\u001b[0m \u001b[0;32min\u001b[0m \u001b[0mdict\u001b[0m\u001b[0;34m.\u001b[0m\u001b[0mkeys\u001b[0m\u001b[0;34m(\u001b[0m\u001b[0;34m)\u001b[0m\u001b[0;34m:\u001b[0m\u001b[0;34m\u001b[0m\u001b[0;34m\u001b[0m\u001b[0m\n\u001b[0;32m----> 7\u001b[0;31m         \u001b[0mlist\u001b[0m \u001b[0;34m=\u001b[0m \u001b[0mlist\u001b[0m\u001b[0;34m.\u001b[0m\u001b[0mreplace\u001b[0m\u001b[0;34m(\u001b[0m\u001b[0mkey\u001b[0m\u001b[0;34m,\u001b[0m \u001b[0mdict\u001b[0m\u001b[0;34m[\u001b[0m\u001b[0mkey\u001b[0m\u001b[0;34m]\u001b[0m\u001b[0;34m)\u001b[0m\u001b[0;34m\u001b[0m\u001b[0;34m\u001b[0m\u001b[0m\n\u001b[0m\u001b[1;32m      8\u001b[0m     \u001b[0mlist\u001b[0m \u001b[0;34m=\u001b[0m \u001b[0mlist\u001b[0m\u001b[0;34m.\u001b[0m\u001b[0msplit\u001b[0m\u001b[0;34m(\u001b[0m\u001b[0;34m\", \"\u001b[0m\u001b[0;34m)\u001b[0m\u001b[0;34m\u001b[0m\u001b[0;34m\u001b[0m\u001b[0m\n\u001b[1;32m      9\u001b[0m     \u001b[0;32mreturn\u001b[0m \u001b[0mlist\u001b[0m\u001b[0;34m\u001b[0m\u001b[0;34m\u001b[0m\u001b[0m\n",
      "\u001b[0;31mAttributeError\u001b[0m: 'list' object has no attribute 'replace'"
     ]
    }
   ],
   "source": [
    "def cleanCategories(list, dict):\n",
    "    '''\n",
    "    Clean categories of excess elements, then will convert to list off of commas\n",
    "    list = element; dict = dictionary of {old, new}\n",
    "    '''\n",
    "    for key in dict.keys():\n",
    "        list = list.replace(key, dict[key])\n",
    "    list = list.split(\", \")\n",
    "    return list\n",
    "\n",
    "replace_values = {\"['\" : \"\", \"']\" : \"\", \", ', '\": \", \"}\n",
    "\n",
    "df['categories'].apply(lambda list: cleanCategories(list, replace_values))"
   ]
  },
  {
   "cell_type": "code",
   "execution_count": 21,
   "metadata": {},
   "outputs": [],
   "source": [
    "df['categories'] = df['categories'].apply(lambda list: cleanCategories(list, replace_values))"
   ]
  },
  {
   "cell_type": "code",
   "execution_count": 22,
   "metadata": {
    "scrolled": false
   },
   "outputs": [
    {
     "data": {
      "text/html": [
       "<div>\n",
       "<style scoped>\n",
       "    .dataframe tbody tr th:only-of-type {\n",
       "        vertical-align: middle;\n",
       "    }\n",
       "\n",
       "    .dataframe tbody tr th {\n",
       "        vertical-align: top;\n",
       "    }\n",
       "\n",
       "    .dataframe thead th {\n",
       "        text-align: right;\n",
       "    }\n",
       "</style>\n",
       "<table border=\"1\" class=\"dataframe\">\n",
       "  <thead>\n",
       "    <tr style=\"text-align: right;\">\n",
       "      <th></th>\n",
       "      <th>name</th>\n",
       "      <th>rating</th>\n",
       "      <th>price</th>\n",
       "      <th>priceIndex</th>\n",
       "      <th>reviewCount</th>\n",
       "      <th>categories</th>\n",
       "    </tr>\n",
       "    <tr>\n",
       "      <th>rank</th>\n",
       "      <th></th>\n",
       "      <th></th>\n",
       "      <th></th>\n",
       "      <th></th>\n",
       "      <th></th>\n",
       "      <th></th>\n",
       "    </tr>\n",
       "  </thead>\n",
       "  <tbody>\n",
       "    <tr>\n",
       "      <th>1</th>\n",
       "      <td>Toast</td>\n",
       "      <td>4.0</td>\n",
       "      <td>$$</td>\n",
       "      <td>2.0</td>\n",
       "      <td>619</td>\n",
       "      <td>[Southern, Gastropubs]</td>\n",
       "    </tr>\n",
       "    <tr>\n",
       "      <th>2</th>\n",
       "      <td>Lucky AF</td>\n",
       "      <td>5.0</td>\n",
       "      <td>NaN</td>\n",
       "      <td>NaN</td>\n",
       "      <td>9</td>\n",
       "      <td>[Asian Fusion, Sushi Bars, Pan Asian]</td>\n",
       "    </tr>\n",
       "    <tr>\n",
       "      <th>3</th>\n",
       "      <td>Stella’s</td>\n",
       "      <td>4.5</td>\n",
       "      <td>$$</td>\n",
       "      <td>2.0</td>\n",
       "      <td>715</td>\n",
       "      <td>[Mediterranean, Greek, Cocktail Bars]</td>\n",
       "    </tr>\n",
       "    <tr>\n",
       "      <th>4</th>\n",
       "      <td>Secret Sandwich Society</td>\n",
       "      <td>4.5</td>\n",
       "      <td>$$</td>\n",
       "      <td>2.0</td>\n",
       "      <td>936</td>\n",
       "      <td>[Burgers, Sandwiches, Cocktail Bars]</td>\n",
       "    </tr>\n",
       "    <tr>\n",
       "      <th>5</th>\n",
       "      <td>Laura Lee’s</td>\n",
       "      <td>4.5</td>\n",
       "      <td>$$</td>\n",
       "      <td>2.0</td>\n",
       "      <td>260</td>\n",
       "      <td>[American (New)]</td>\n",
       "    </tr>\n",
       "  </tbody>\n",
       "</table>\n",
       "</div>"
      ],
      "text/plain": [
       "                         name  rating price  priceIndex  reviewCount  \\\n",
       "rank                                                                   \n",
       "1                       Toast     4.0    $$         2.0          619   \n",
       "2                    Lucky AF     5.0   NaN         NaN            9   \n",
       "3                    Stella’s     4.5    $$         2.0          715   \n",
       "4     Secret Sandwich Society     4.5    $$         2.0          936   \n",
       "5                 Laura Lee’s     4.5    $$         2.0          260   \n",
       "\n",
       "                                 categories  \n",
       "rank                                         \n",
       "1                    [Southern, Gastropubs]  \n",
       "2     [Asian Fusion, Sushi Bars, Pan Asian]  \n",
       "3     [Mediterranean, Greek, Cocktail Bars]  \n",
       "4      [Burgers, Sandwiches, Cocktail Bars]  \n",
       "5                          [American (New)]  "
      ]
     },
     "execution_count": 22,
     "metadata": {},
     "output_type": "execute_result"
    }
   ],
   "source": [
    "df.head()"
   ]
  },
  {
   "cell_type": "code",
   "execution_count": 25,
   "metadata": {},
   "outputs": [
    {
     "data": {
      "text/plain": [
       "'Sushi Bars'"
      ]
     },
     "execution_count": 25,
     "metadata": {},
     "output_type": "execute_result"
    }
   ],
   "source": [
    "df['categories'].loc[2][1]"
   ]
  },
  {
   "cell_type": "code",
   "execution_count": 77,
   "metadata": {},
   "outputs": [],
   "source": [
    "# df['categories'] = df['categories'].apply(lambda x: x.replace(\", ',\" , \"\"))\n",
    "# df['categories'] = df['categories'].apply(lambda x: x.replace(\" '\", \", \"))\n",
    "# df['categories'] = df['categories'].apply(lambda x: x.replace(\"'\", \"\"))\n",
    "\n",
    "# def stringCleaner(x):\n",
    "#     if \"[\" or \"]\" in x:\n",
    "#         x = x.replace(\"[\",\"\")\n",
    "#         x = x.replace(\"]\",\"\")\n",
    "#     return x\n",
    "\n",
    "# df['categories'] = df['categories'].apply(lambda x: stringCleaner(x))\n",
    "\n",
    "# def categoriesToList(x):\n",
    "#     x = x.split(\", \")\n",
    "#     return x\n",
    "\n",
    "# df['categories'] = df['categories'].apply(lambda x: categoriesToList(x))"
   ]
  },
  {
   "cell_type": "markdown",
   "metadata": {},
   "source": [
    "### Looks like our scraper picked up duplicate restaurants. Let's clean that up.\n",
    "It could be because Yelp is constantly changing the rankings of restaurants in real time. \n",
    "We'll use `.drop_duplicate()`"
   ]
  },
  {
   "cell_type": "code",
   "execution_count": 26,
   "metadata": {
    "scrolled": false
   },
   "outputs": [
    {
     "data": {
      "text/html": [
       "<div>\n",
       "<style scoped>\n",
       "    .dataframe tbody tr th:only-of-type {\n",
       "        vertical-align: middle;\n",
       "    }\n",
       "\n",
       "    .dataframe tbody tr th {\n",
       "        vertical-align: top;\n",
       "    }\n",
       "\n",
       "    .dataframe thead th {\n",
       "        text-align: right;\n",
       "    }\n",
       "</style>\n",
       "<table border=\"1\" class=\"dataframe\">\n",
       "  <thead>\n",
       "    <tr style=\"text-align: right;\">\n",
       "      <th></th>\n",
       "      <th>name</th>\n",
       "      <th>rating</th>\n",
       "      <th>price</th>\n",
       "      <th>priceIndex</th>\n",
       "      <th>reviewCount</th>\n",
       "      <th>categories</th>\n",
       "    </tr>\n",
       "    <tr>\n",
       "      <th>rank</th>\n",
       "      <th></th>\n",
       "      <th></th>\n",
       "      <th></th>\n",
       "      <th></th>\n",
       "      <th></th>\n",
       "      <th></th>\n",
       "    </tr>\n",
       "  </thead>\n",
       "  <tbody>\n",
       "    <tr>\n",
       "      <th>1</th>\n",
       "      <td>Toast</td>\n",
       "      <td>4.0</td>\n",
       "      <td>$$</td>\n",
       "      <td>2.0</td>\n",
       "      <td>619</td>\n",
       "      <td>[Southern, Gastropubs]</td>\n",
       "    </tr>\n",
       "    <tr>\n",
       "      <th>2</th>\n",
       "      <td>Lucky AF</td>\n",
       "      <td>5.0</td>\n",
       "      <td>NaN</td>\n",
       "      <td>NaN</td>\n",
       "      <td>9</td>\n",
       "      <td>[Asian Fusion, Sushi Bars, Pan Asian]</td>\n",
       "    </tr>\n",
       "    <tr>\n",
       "      <th>3</th>\n",
       "      <td>Stella’s</td>\n",
       "      <td>4.5</td>\n",
       "      <td>$$</td>\n",
       "      <td>2.0</td>\n",
       "      <td>715</td>\n",
       "      <td>[Mediterranean, Greek, Cocktail Bars]</td>\n",
       "    </tr>\n",
       "    <tr>\n",
       "      <th>4</th>\n",
       "      <td>Secret Sandwich Society</td>\n",
       "      <td>4.5</td>\n",
       "      <td>$$</td>\n",
       "      <td>2.0</td>\n",
       "      <td>936</td>\n",
       "      <td>[Burgers, Sandwiches, Cocktail Bars]</td>\n",
       "    </tr>\n",
       "    <tr>\n",
       "      <th>5</th>\n",
       "      <td>Laura Lee’s</td>\n",
       "      <td>4.5</td>\n",
       "      <td>$$</td>\n",
       "      <td>2.0</td>\n",
       "      <td>260</td>\n",
       "      <td>[American (New)]</td>\n",
       "    </tr>\n",
       "  </tbody>\n",
       "</table>\n",
       "</div>"
      ],
      "text/plain": [
       "                         name  rating price  priceIndex  reviewCount  \\\n",
       "rank                                                                   \n",
       "1                       Toast     4.0    $$         2.0          619   \n",
       "2                    Lucky AF     5.0   NaN         NaN            9   \n",
       "3                    Stella’s     4.5    $$         2.0          715   \n",
       "4     Secret Sandwich Society     4.5    $$         2.0          936   \n",
       "5                 Laura Lee’s     4.5    $$         2.0          260   \n",
       "\n",
       "                                 categories  \n",
       "rank                                         \n",
       "1                    [Southern, Gastropubs]  \n",
       "2     [Asian Fusion, Sushi Bars, Pan Asian]  \n",
       "3     [Mediterranean, Greek, Cocktail Bars]  \n",
       "4      [Burgers, Sandwiches, Cocktail Bars]  \n",
       "5                          [American (New)]  "
      ]
     },
     "execution_count": 26,
     "metadata": {},
     "output_type": "execute_result"
    }
   ],
   "source": [
    "df.head()"
   ]
  },
  {
   "cell_type": "code",
   "execution_count": 27,
   "metadata": {},
   "outputs": [
    {
     "name": "stdout",
     "output_type": "stream",
     "text": [
      "<class 'pandas.core.frame.DataFrame'>\n",
      "Int64Index: 50 entries, 1 to 50\n",
      "Data columns (total 6 columns):\n",
      " #   Column       Non-Null Count  Dtype  \n",
      "---  ------       --------------  -----  \n",
      " 0   name         50 non-null     object \n",
      " 1   rating       50 non-null     float64\n",
      " 2   price        45 non-null     object \n",
      " 3   priceIndex   45 non-null     float64\n",
      " 4   reviewCount  50 non-null     int64  \n",
      " 5   categories   50 non-null     object \n",
      "dtypes: float64(2), int64(1), object(3)\n",
      "memory usage: 5.2+ KB\n"
     ]
    }
   ],
   "source": [
    "df.info()"
   ]
  },
  {
   "cell_type": "code",
   "execution_count": 28,
   "metadata": {},
   "outputs": [],
   "source": [
    "df.drop_duplicates(subset=['name'], inplace=True)"
   ]
  },
  {
   "cell_type": "code",
   "execution_count": 29,
   "metadata": {},
   "outputs": [
    {
     "name": "stdout",
     "output_type": "stream",
     "text": [
      "<class 'pandas.core.frame.DataFrame'>\n",
      "Int64Index: 40 entries, 1 to 50\n",
      "Data columns (total 6 columns):\n",
      " #   Column       Non-Null Count  Dtype  \n",
      "---  ------       --------------  -----  \n",
      " 0   name         40 non-null     object \n",
      " 1   rating       40 non-null     float64\n",
      " 2   price        36 non-null     object \n",
      " 3   priceIndex   36 non-null     float64\n",
      " 4   reviewCount  40 non-null     int64  \n",
      " 5   categories   40 non-null     object \n",
      "dtypes: float64(2), int64(1), object(3)\n",
      "memory usage: 2.2+ KB\n"
     ]
    }
   ],
   "source": [
    "df.info()"
   ]
  },
  {
   "cell_type": "markdown",
   "metadata": {},
   "source": [
    "### Fill in missing prices:"
   ]
  },
  {
   "cell_type": "code",
   "execution_count": 30,
   "metadata": {},
   "outputs": [],
   "source": [
    "#Manual fill of restaurants missing prices\n",
    "\n",
    "df.loc[22, 'price'] = '$$$' # The Broken Tulip\n",
    "df.loc[22, 'priceIndex'] = 3.0\n",
    "\n",
    "df.loc[15, 'price'] = '$$' # &pizza\n",
    "df.loc[15, 'priceIndex'] = 2.0\n",
    "\n",
    "df.loc[2, 'price'] = '$$' # Lucky AF\n",
    "df.loc[2, 'priceIndex'] = 2.0\n",
    "\n",
    "df.loc[16, 'price'] = '$$$' # Perch\n",
    "df.loc[16, 'priceIndex'] = 3.0"
   ]
  },
  {
   "cell_type": "code",
   "execution_count": 31,
   "metadata": {},
   "outputs": [
    {
     "name": "stdout",
     "output_type": "stream",
     "text": [
      "<class 'pandas.core.frame.DataFrame'>\n",
      "Int64Index: 40 entries, 1 to 50\n",
      "Data columns (total 6 columns):\n",
      " #   Column       Non-Null Count  Dtype  \n",
      "---  ------       --------------  -----  \n",
      " 0   name         40 non-null     object \n",
      " 1   rating       40 non-null     float64\n",
      " 2   price        40 non-null     object \n",
      " 3   priceIndex   40 non-null     float64\n",
      " 4   reviewCount  40 non-null     int64  \n",
      " 5   categories   40 non-null     object \n",
      "dtypes: float64(2), int64(1), object(3)\n",
      "memory usage: 3.4+ KB\n"
     ]
    }
   ],
   "source": [
    "df.info()"
   ]
  },
  {
   "cell_type": "markdown",
   "metadata": {},
   "source": [
    "We now only have 40 rows after cleaning up for duplicates, but we can work with this."
   ]
  },
  {
   "cell_type": "markdown",
   "metadata": {},
   "source": [
    "### We will now create a seperate dataframe with the nest list of categories expand for extended analyses\n",
    "* We will use the .explode() method and reset the index\n",
    "* Note: We will not save this into csv. We will just re-explode during analysis to save file space."
   ]
  },
  {
   "cell_type": "markdown",
   "metadata": {},
   "source": [
    "Copy dataframe to df2 for testing:"
   ]
  },
  {
   "cell_type": "code",
   "execution_count": 32,
   "metadata": {
    "scrolled": true
   },
   "outputs": [],
   "source": [
    "df2 = df.copy(deep=True)"
   ]
  },
  {
   "cell_type": "markdown",
   "metadata": {},
   "source": [
    "https://stackoverflow.com/questions/53218931/how-to-unnest-explode-a-column-in-a-pandas-dataframe"
   ]
  },
  {
   "cell_type": "code",
   "execution_count": 34,
   "metadata": {
    "collapsed": true
   },
   "outputs": [
    {
     "data": {
      "text/html": [
       "<div>\n",
       "<style scoped>\n",
       "    .dataframe tbody tr th:only-of-type {\n",
       "        vertical-align: middle;\n",
       "    }\n",
       "\n",
       "    .dataframe tbody tr th {\n",
       "        vertical-align: top;\n",
       "    }\n",
       "\n",
       "    .dataframe thead th {\n",
       "        text-align: right;\n",
       "    }\n",
       "</style>\n",
       "<table border=\"1\" class=\"dataframe\">\n",
       "  <thead>\n",
       "    <tr style=\"text-align: right;\">\n",
       "      <th></th>\n",
       "      <th>rank</th>\n",
       "      <th>name</th>\n",
       "      <th>rating</th>\n",
       "      <th>price</th>\n",
       "      <th>priceIndex</th>\n",
       "      <th>reviewCount</th>\n",
       "      <th>categories</th>\n",
       "    </tr>\n",
       "  </thead>\n",
       "  <tbody>\n",
       "    <tr>\n",
       "      <th>0</th>\n",
       "      <td>1</td>\n",
       "      <td>Toast</td>\n",
       "      <td>4.0</td>\n",
       "      <td>$$</td>\n",
       "      <td>2.0</td>\n",
       "      <td>619</td>\n",
       "      <td>Southern</td>\n",
       "    </tr>\n",
       "    <tr>\n",
       "      <th>1</th>\n",
       "      <td>1</td>\n",
       "      <td>Toast</td>\n",
       "      <td>4.0</td>\n",
       "      <td>$$</td>\n",
       "      <td>2.0</td>\n",
       "      <td>619</td>\n",
       "      <td>Gastropubs</td>\n",
       "    </tr>\n",
       "    <tr>\n",
       "      <th>2</th>\n",
       "      <td>2</td>\n",
       "      <td>Lucky AF</td>\n",
       "      <td>5.0</td>\n",
       "      <td>$$</td>\n",
       "      <td>2.0</td>\n",
       "      <td>9</td>\n",
       "      <td>Asian Fusion</td>\n",
       "    </tr>\n",
       "    <tr>\n",
       "      <th>3</th>\n",
       "      <td>2</td>\n",
       "      <td>Lucky AF</td>\n",
       "      <td>5.0</td>\n",
       "      <td>$$</td>\n",
       "      <td>2.0</td>\n",
       "      <td>9</td>\n",
       "      <td>Sushi Bars</td>\n",
       "    </tr>\n",
       "    <tr>\n",
       "      <th>4</th>\n",
       "      <td>2</td>\n",
       "      <td>Lucky AF</td>\n",
       "      <td>5.0</td>\n",
       "      <td>$$</td>\n",
       "      <td>2.0</td>\n",
       "      <td>9</td>\n",
       "      <td>Pan Asian</td>\n",
       "    </tr>\n",
       "    <tr>\n",
       "      <th>...</th>\n",
       "      <td>...</td>\n",
       "      <td>...</td>\n",
       "      <td>...</td>\n",
       "      <td>...</td>\n",
       "      <td>...</td>\n",
       "      <td>...</td>\n",
       "      <td>...</td>\n",
       "    </tr>\n",
       "    <tr>\n",
       "      <th>74</th>\n",
       "      <td>48</td>\n",
       "      <td>Beijing On Grove</td>\n",
       "      <td>4.0</td>\n",
       "      <td>$$</td>\n",
       "      <td>2.0</td>\n",
       "      <td>125</td>\n",
       "      <td>Bars</td>\n",
       "    </tr>\n",
       "    <tr>\n",
       "      <th>75</th>\n",
       "      <td>48</td>\n",
       "      <td>Beijing On Grove</td>\n",
       "      <td>4.0</td>\n",
       "      <td>$$</td>\n",
       "      <td>2.0</td>\n",
       "      <td>125</td>\n",
       "      <td>Cantonese</td>\n",
       "    </tr>\n",
       "    <tr>\n",
       "      <th>76</th>\n",
       "      <td>50</td>\n",
       "      <td>Tazza Kitchen Scott’s Addition</td>\n",
       "      <td>4.0</td>\n",
       "      <td>$$</td>\n",
       "      <td>2.0</td>\n",
       "      <td>193</td>\n",
       "      <td>American (New)</td>\n",
       "    </tr>\n",
       "    <tr>\n",
       "      <th>77</th>\n",
       "      <td>50</td>\n",
       "      <td>Tazza Kitchen Scott’s Addition</td>\n",
       "      <td>4.0</td>\n",
       "      <td>$$</td>\n",
       "      <td>2.0</td>\n",
       "      <td>193</td>\n",
       "      <td>Pizza</td>\n",
       "    </tr>\n",
       "    <tr>\n",
       "      <th>78</th>\n",
       "      <td>50</td>\n",
       "      <td>Tazza Kitchen Scott’s Addition</td>\n",
       "      <td>4.0</td>\n",
       "      <td>$$</td>\n",
       "      <td>2.0</td>\n",
       "      <td>193</td>\n",
       "      <td>Cocktail Bars</td>\n",
       "    </tr>\n",
       "  </tbody>\n",
       "</table>\n",
       "<p>79 rows × 7 columns</p>\n",
       "</div>"
      ],
      "text/plain": [
       "    rank                            name  rating price  priceIndex  \\\n",
       "0      1                           Toast     4.0    $$         2.0   \n",
       "1      1                           Toast     4.0    $$         2.0   \n",
       "2      2                        Lucky AF     5.0    $$         2.0   \n",
       "3      2                        Lucky AF     5.0    $$         2.0   \n",
       "4      2                        Lucky AF     5.0    $$         2.0   \n",
       "..   ...                             ...     ...   ...         ...   \n",
       "74    48                Beijing On Grove     4.0    $$         2.0   \n",
       "75    48                Beijing On Grove     4.0    $$         2.0   \n",
       "76    50  Tazza Kitchen Scott’s Addition     4.0    $$         2.0   \n",
       "77    50  Tazza Kitchen Scott’s Addition     4.0    $$         2.0   \n",
       "78    50  Tazza Kitchen Scott’s Addition     4.0    $$         2.0   \n",
       "\n",
       "    reviewCount      categories  \n",
       "0           619        Southern  \n",
       "1           619      Gastropubs  \n",
       "2             9    Asian Fusion  \n",
       "3             9      Sushi Bars  \n",
       "4             9       Pan Asian  \n",
       "..          ...             ...  \n",
       "74          125            Bars  \n",
       "75          125       Cantonese  \n",
       "76          193  American (New)  \n",
       "77          193           Pizza  \n",
       "78          193   Cocktail Bars  \n",
       "\n",
       "[79 rows x 7 columns]"
      ]
     },
     "execution_count": 34,
     "metadata": {},
     "output_type": "execute_result"
    }
   ],
   "source": [
    "df2 = df2.explode('categories')\n",
    "df2.reset_index(inplace = True)\n",
    "df2"
   ]
  },
  {
   "cell_type": "code",
   "execution_count": 35,
   "metadata": {
    "scrolled": true
   },
   "outputs": [
    {
     "data": {
      "text/plain": [
       "American (New)            9\n",
       "Southern                  8\n",
       "Seafood                   5\n",
       "Bars                      5\n",
       "Cocktail Bars             5\n",
       "Burgers                   4\n",
       "Mediterranean             4\n",
       "Pizza                     3\n",
       "American (Traditional)    2\n",
       "Brewpubs                  2\n",
       "Name: categories, dtype: int64"
      ]
     },
     "execution_count": 35,
     "metadata": {},
     "output_type": "execute_result"
    }
   ],
   "source": [
    "df2['categories'].value_counts().head(10)"
   ]
  },
  {
   "cell_type": "code",
   "execution_count": 36,
   "metadata": {
    "scrolled": false
   },
   "outputs": [
    {
     "data": {
      "text/html": [
       "<div>\n",
       "<style scoped>\n",
       "    .dataframe tbody tr th:only-of-type {\n",
       "        vertical-align: middle;\n",
       "    }\n",
       "\n",
       "    .dataframe tbody tr th {\n",
       "        vertical-align: top;\n",
       "    }\n",
       "\n",
       "    .dataframe thead th {\n",
       "        text-align: right;\n",
       "    }\n",
       "</style>\n",
       "<table border=\"1\" class=\"dataframe\">\n",
       "  <thead>\n",
       "    <tr style=\"text-align: right;\">\n",
       "      <th></th>\n",
       "      <th>rank</th>\n",
       "      <th>name</th>\n",
       "    </tr>\n",
       "  </thead>\n",
       "  <tbody>\n",
       "    <tr>\n",
       "      <th>0</th>\n",
       "      <td>1</td>\n",
       "      <td>Toast</td>\n",
       "    </tr>\n",
       "    <tr>\n",
       "      <th>14</th>\n",
       "      <td>6</td>\n",
       "      <td>Lunch Or Supper</td>\n",
       "    </tr>\n",
       "    <tr>\n",
       "      <th>15</th>\n",
       "      <td>7</td>\n",
       "      <td>Southbound</td>\n",
       "    </tr>\n",
       "    <tr>\n",
       "      <th>23</th>\n",
       "      <td>13</td>\n",
       "      <td>The Roosevelt</td>\n",
       "    </tr>\n",
       "    <tr>\n",
       "      <th>40</th>\n",
       "      <td>23</td>\n",
       "      <td>Croaker’s Spot Restaurant</td>\n",
       "    </tr>\n",
       "    <tr>\n",
       "      <th>63</th>\n",
       "      <td>43</td>\n",
       "      <td>Sugar’s Crab Shack</td>\n",
       "    </tr>\n",
       "    <tr>\n",
       "      <th>69</th>\n",
       "      <td>46</td>\n",
       "      <td>Spoonbread Bistro</td>\n",
       "    </tr>\n",
       "    <tr>\n",
       "      <th>72</th>\n",
       "      <td>47</td>\n",
       "      <td>Soul Taco</td>\n",
       "    </tr>\n",
       "  </tbody>\n",
       "</table>\n",
       "</div>"
      ],
      "text/plain": [
       "    rank                       name\n",
       "0      1                      Toast\n",
       "14     6            Lunch Or Supper\n",
       "15     7                 Southbound\n",
       "23    13              The Roosevelt\n",
       "40    23  Croaker’s Spot Restaurant\n",
       "63    43         Sugar’s Crab Shack\n",
       "69    46          Spoonbread Bistro\n",
       "72    47                  Soul Taco"
      ]
     },
     "execution_count": 36,
     "metadata": {},
     "output_type": "execute_result"
    }
   ],
   "source": [
    "df2[df2['categories'] == 'Southern'][['rank','name']]"
   ]
  },
  {
   "cell_type": "code",
   "execution_count": 46,
   "metadata": {
    "collapsed": true
   },
   "outputs": [
    {
     "data": {
      "text/html": [
       "<div>\n",
       "<style scoped>\n",
       "    .dataframe tbody tr th:only-of-type {\n",
       "        vertical-align: middle;\n",
       "    }\n",
       "\n",
       "    .dataframe tbody tr th {\n",
       "        vertical-align: top;\n",
       "    }\n",
       "\n",
       "    .dataframe thead th {\n",
       "        text-align: right;\n",
       "    }\n",
       "</style>\n",
       "<table border=\"1\" class=\"dataframe\">\n",
       "  <thead>\n",
       "    <tr style=\"text-align: right;\">\n",
       "      <th></th>\n",
       "      <th>name</th>\n",
       "      <th>rating</th>\n",
       "      <th>price</th>\n",
       "      <th>priceIndex</th>\n",
       "      <th>reviewCount</th>\n",
       "      <th>categories</th>\n",
       "    </tr>\n",
       "    <tr>\n",
       "      <th>rank</th>\n",
       "      <th></th>\n",
       "      <th></th>\n",
       "      <th></th>\n",
       "      <th></th>\n",
       "      <th></th>\n",
       "      <th></th>\n",
       "    </tr>\n",
       "  </thead>\n",
       "  <tbody>\n",
       "    <tr>\n",
       "      <th>1</th>\n",
       "      <td>Toast</td>\n",
       "      <td>4.0</td>\n",
       "      <td>$$</td>\n",
       "      <td>2.0</td>\n",
       "      <td>619</td>\n",
       "      <td>[Southern, Gastropubs]</td>\n",
       "    </tr>\n",
       "    <tr>\n",
       "      <th>2</th>\n",
       "      <td>Lucky AF</td>\n",
       "      <td>5.0</td>\n",
       "      <td>NaN</td>\n",
       "      <td>NaN</td>\n",
       "      <td>9</td>\n",
       "      <td>[Asian Fusion, Sushi Bars, Pan Asian]</td>\n",
       "    </tr>\n",
       "    <tr>\n",
       "      <th>3</th>\n",
       "      <td>Stella’s</td>\n",
       "      <td>4.5</td>\n",
       "      <td>$$</td>\n",
       "      <td>2.0</td>\n",
       "      <td>715</td>\n",
       "      <td>[Mediterranean, Greek, Cocktail Bars]</td>\n",
       "    </tr>\n",
       "    <tr>\n",
       "      <th>4</th>\n",
       "      <td>Secret Sandwich Society</td>\n",
       "      <td>4.5</td>\n",
       "      <td>$$</td>\n",
       "      <td>2.0</td>\n",
       "      <td>936</td>\n",
       "      <td>[Burgers, Sandwiches, Cocktail Bars]</td>\n",
       "    </tr>\n",
       "    <tr>\n",
       "      <th>5</th>\n",
       "      <td>Laura Lee’s</td>\n",
       "      <td>4.5</td>\n",
       "      <td>$$</td>\n",
       "      <td>2.0</td>\n",
       "      <td>260</td>\n",
       "      <td>[American (New)]</td>\n",
       "    </tr>\n",
       "  </tbody>\n",
       "</table>\n",
       "</div>"
      ],
      "text/plain": [
       "                         name  rating price  priceIndex  reviewCount  \\\n",
       "rank                                                                   \n",
       "1                       Toast     4.0    $$         2.0          619   \n",
       "2                    Lucky AF     5.0   NaN         NaN            9   \n",
       "3                    Stella’s     4.5    $$         2.0          715   \n",
       "4     Secret Sandwich Society     4.5    $$         2.0          936   \n",
       "5                 Laura Lee’s     4.5    $$         2.0          260   \n",
       "\n",
       "                                 categories  \n",
       "rank                                         \n",
       "1                    [Southern, Gastropubs]  \n",
       "2     [Asian Fusion, Sushi Bars, Pan Asian]  \n",
       "3     [Mediterranean, Greek, Cocktail Bars]  \n",
       "4      [Burgers, Sandwiches, Cocktail Bars]  \n",
       "5                          [American (New)]  "
      ]
     },
     "execution_count": 46,
     "metadata": {},
     "output_type": "execute_result"
    }
   ],
   "source": [
    "df.head()"
   ]
  },
  {
   "cell_type": "code",
   "execution_count": 47,
   "metadata": {
    "collapsed": true
   },
   "outputs": [
    {
     "data": {
      "text/html": [
       "<div>\n",
       "<style scoped>\n",
       "    .dataframe tbody tr th:only-of-type {\n",
       "        vertical-align: middle;\n",
       "    }\n",
       "\n",
       "    .dataframe tbody tr th {\n",
       "        vertical-align: top;\n",
       "    }\n",
       "\n",
       "    .dataframe thead th {\n",
       "        text-align: right;\n",
       "    }\n",
       "</style>\n",
       "<table border=\"1\" class=\"dataframe\">\n",
       "  <thead>\n",
       "    <tr style=\"text-align: right;\">\n",
       "      <th></th>\n",
       "      <th>rank</th>\n",
       "      <th>name</th>\n",
       "      <th>rating</th>\n",
       "      <th>price</th>\n",
       "      <th>priceIndex</th>\n",
       "      <th>reviewCount</th>\n",
       "      <th>categories</th>\n",
       "    </tr>\n",
       "  </thead>\n",
       "  <tbody>\n",
       "    <tr>\n",
       "      <th>0</th>\n",
       "      <td>1</td>\n",
       "      <td>Toast</td>\n",
       "      <td>4.0</td>\n",
       "      <td>$$</td>\n",
       "      <td>2.0</td>\n",
       "      <td>619</td>\n",
       "      <td>Southern</td>\n",
       "    </tr>\n",
       "    <tr>\n",
       "      <th>1</th>\n",
       "      <td>1</td>\n",
       "      <td>Toast</td>\n",
       "      <td>4.0</td>\n",
       "      <td>$$</td>\n",
       "      <td>2.0</td>\n",
       "      <td>619</td>\n",
       "      <td>Gastropubs</td>\n",
       "    </tr>\n",
       "    <tr>\n",
       "      <th>2</th>\n",
       "      <td>2</td>\n",
       "      <td>Lucky AF</td>\n",
       "      <td>5.0</td>\n",
       "      <td>NaN</td>\n",
       "      <td>NaN</td>\n",
       "      <td>9</td>\n",
       "      <td>Asian Fusion</td>\n",
       "    </tr>\n",
       "    <tr>\n",
       "      <th>3</th>\n",
       "      <td>2</td>\n",
       "      <td>Lucky AF</td>\n",
       "      <td>5.0</td>\n",
       "      <td>NaN</td>\n",
       "      <td>NaN</td>\n",
       "      <td>9</td>\n",
       "      <td>Sushi Bars</td>\n",
       "    </tr>\n",
       "    <tr>\n",
       "      <th>4</th>\n",
       "      <td>2</td>\n",
       "      <td>Lucky AF</td>\n",
       "      <td>5.0</td>\n",
       "      <td>NaN</td>\n",
       "      <td>NaN</td>\n",
       "      <td>9</td>\n",
       "      <td>Pan Asian</td>\n",
       "    </tr>\n",
       "  </tbody>\n",
       "</table>\n",
       "</div>"
      ],
      "text/plain": [
       "   rank      name  rating price  priceIndex  reviewCount    categories\n",
       "0     1     Toast     4.0    $$         2.0          619      Southern\n",
       "1     1     Toast     4.0    $$         2.0          619    Gastropubs\n",
       "2     2  Lucky AF     5.0   NaN         NaN            9  Asian Fusion\n",
       "3     2  Lucky AF     5.0   NaN         NaN            9    Sushi Bars\n",
       "4     2  Lucky AF     5.0   NaN         NaN            9     Pan Asian"
      ]
     },
     "execution_count": 47,
     "metadata": {},
     "output_type": "execute_result"
    }
   ],
   "source": [
    "df2.head()"
   ]
  },
  {
   "cell_type": "markdown",
   "metadata": {},
   "source": [
    "### Save on to CSV file:"
   ]
  },
  {
   "cell_type": "code",
   "execution_count": 37,
   "metadata": {},
   "outputs": [],
   "source": [
    "df.to_csv('/Users/terencerustia/Documents/Data Science Projects/Yelp Data Analysis/rva_restaurants_cleaned_df.csv',)"
   ]
  },
  {
   "cell_type": "markdown",
   "metadata": {},
   "source": [
    "Upon upload to next notebook, we'll need to re-wrangle the data and set up df2 to un-nest the categories column again."
   ]
  }
 ],
 "metadata": {
  "kernelspec": {
   "display_name": "Python 3",
   "language": "python",
   "name": "python3"
  },
  "language_info": {
   "codemirror_mode": {
    "name": "ipython",
    "version": 3
   },
   "file_extension": ".py",
   "mimetype": "text/x-python",
   "name": "python",
   "nbconvert_exporter": "python",
   "pygments_lexer": "ipython3",
   "version": "3.7.6"
  }
 },
 "nbformat": 4,
 "nbformat_minor": 4
}
